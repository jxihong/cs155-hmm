{
 "cells": [
  {
   "cell_type": "markdown",
   "metadata": {},
   "source": [
    "## Train a Character-level RNN"
   ]
  },
  {
   "cell_type": "markdown",
   "metadata": {},
   "source": [
    "RNNs take a long time to train, so I thought using characters with a window of 20 would get good results, and have a smaller output space (36 characters to output instead of 1000s of words). "
   ]
  },
  {
   "cell_type": "code",
   "execution_count": 1,
   "metadata": {
    "collapsed": false
   },
   "outputs": [
    {
     "name": "stderr",
     "output_type": "stream",
     "text": [
      "Using TensorFlow backend.\n"
     ]
    }
   ],
   "source": [
    "from keras.models import Sequential\n",
    "from keras.layers.core import Dense, Activation, Dropout\n",
    "from keras.layers.recurrent import LSTM\n",
    "\n",
    "import tensorflow as tf\n",
    "import numpy as np\n",
    "import random\n",
    "import sys\n",
    "import re\n",
    "import string"
   ]
  },
  {
   "cell_type": "markdown",
   "metadata": {},
   "source": [
    "Added some other poems by Shakespeare, to boost training data. These poems have no specific rhyme or meter though."
   ]
  },
  {
   "cell_type": "code",
   "execution_count": 2,
   "metadata": {
    "collapsed": true
   },
   "outputs": [],
   "source": [
    "maxlen = 25 # Window size"
   ]
  },
  {
   "cell_type": "code",
   "execution_count": 4,
   "metadata": {
    "collapsed": false
   },
   "outputs": [],
   "source": [
    "files = ['../data/shakespeare.txt', '../data/shakespeare_xtra.txt']\n",
    "text = ''\n",
    "\n",
    "for filename in files:\n",
    "    with open(filename) as f:\n",
    "        for line in f:\n",
    "            line = line.strip()\n",
    "            if len(line) > 0 and not line.isdigit():\n",
    "                line = line.translate(None, ':;,.!()?')\n",
    "                text += '$' + line.lower() + '\\n'"
   ]
  },
  {
   "cell_type": "code",
   "execution_count": 5,
   "metadata": {
    "collapsed": false
   },
   "outputs": [
    {
     "name": "stdout",
     "output_type": "stream",
     "text": [
      "('total chars:', 31)\n"
     ]
    }
   ],
   "source": [
    "chars = set(text)\n",
    "print('total chars:', len(chars))"
   ]
  },
  {
   "cell_type": "code",
   "execution_count": 6,
   "metadata": {
    "collapsed": false
   },
   "outputs": [
    {
     "data": {
      "text/plain": [
       "240838"
      ]
     },
     "execution_count": 6,
     "metadata": {},
     "output_type": "execute_result"
    }
   ],
   "source": [
    "len(text)"
   ]
  },
  {
   "cell_type": "code",
   "execution_count": 88,
   "metadata": {
    "collapsed": true
   },
   "outputs": [],
   "source": [
    "char_indices = dict((c, i) for i, c in enumerate(chars))\n",
    "indices_char = dict((i, c) for i, c in enumerate(chars))"
   ]
  },
  {
   "cell_type": "code",
   "execution_count": 18,
   "metadata": {
    "collapsed": false
   },
   "outputs": [],
   "source": [
    "#pickle.dump(char_indices, open(\"char_indic.json\", \"w\"))\n",
    "#pickle.dump(indices_char, open(\"indic_char.json\", \"w\"))"
   ]
  },
  {
   "cell_type": "code",
   "execution_count": 90,
   "metadata": {
    "collapsed": false
   },
   "outputs": [
    {
     "name": "stdout",
     "output_type": "stream",
     "text": [
      "('Number sequences:', 80271)\n"
     ]
    }
   ],
   "source": [
    "step = 3\n",
    "sentences = []\n",
    "next_chars = []\n",
    "for i in range(0, len(text) - maxlen, step):\n",
    "    sentences.append(text[i: i + maxlen])\n",
    "    next_chars.append(text[i + maxlen])\n",
    "    \n",
    "print('Number sequences:', len(sentences))"
   ]
  },
  {
   "cell_type": "code",
   "execution_count": 92,
   "metadata": {
    "collapsed": true
   },
   "outputs": [],
   "source": [
    "X = np.zeros((len(sentences), maxlen, len(chars)), dtype=np.bool)\n",
    "y = np.zeros((len(sentences), len(chars)), dtype=np.bool)\n",
    "\n",
    "for i, sentence in enumerate(sentences):\n",
    "    for t, char in enumerate(sentence):\n",
    "        X[i, t, char_indices[char]] = 1\n",
    "    y[i, char_indices[next_chars[i]]] = 1"
   ]
  },
  {
   "cell_type": "code",
   "execution_count": 93,
   "metadata": {
    "collapsed": true
   },
   "outputs": [],
   "source": [
    "model = Sequential()\n",
    "model.add(LSTM(512, return_sequences=True, input_shape=(maxlen, len(chars))))\n",
    "model.add(Dropout(0.4))\n",
    "model.add(LSTM(512, return_sequences=False))\n",
    "model.add(Dropout(0.4))\n",
    "model.add(Dense(len(chars)))\n",
    "model.add(Activation('softmax'))\n",
    "\n",
    "model.compile(loss='categorical_crossentropy', optimizer='rmsprop')"
   ]
  },
  {
   "cell_type": "code",
   "execution_count": 6,
   "metadata": {
    "collapsed": false
   },
   "outputs": [],
   "source": [
    "def sample(preds, temperature=1.0):\n",
    "    # helper function to sample an index from a probability array\n",
    "\n",
    "    with np.errstate(divide='ignore', invalid='ignore'):\n",
    "        preds = np.asarray(preds).astype('float64')\n",
    "        preds = np.log(preds) / temperature\n",
    "    \n",
    "        # Fix division by 0\n",
    "        preds[preds == np.inf] = 0\n",
    "    \n",
    "        exp_preds = np.exp(preds)\n",
    "        preds =  exp_preds / np.sum(exp_preds)\n",
    "    \n",
    "    return np.argmax(np.random.multinomial(1, preds, 1))"
   ]
  },
  {
   "cell_type": "markdown",
   "metadata": {},
   "source": [
    "Keras uses Tensorflow Backend, so it will automatically choose GPU if it can. Unfortunately, my computer doesn't have a GPU it can train on."
   ]
  },
  {
   "cell_type": "code",
   "execution_count": 95,
   "metadata": {
    "collapsed": false
   },
   "outputs": [
    {
     "name": "stdout",
     "output_type": "stream",
     "text": [
      "\n",
      "--------------------------------------------------\n",
      "('Iteration', 1)\n",
      "Epoch 1/1\n",
      "80271/80271 [==============================] - 834s - loss: 2.4976   \n",
      "----- Generating with start: $$$$$$$$$$$$$$$o love is  \n",
      "\n",
      "\n",
      "('----- Diversity:', 0.2)\n",
      "o love is then then then the sore\n",
      "then then then then then then the the sile the thee the soun the sore\n",
      "then then then then then thee the the the the sore the\n",
      "\n",
      "('----- Diversity:', 0.5)\n",
      "o love is then then then the sore\n",
      "$then then then then then then the the sile the thee the soun the sore\n",
      "$then then then then then thee the the the the sore the thee as in ind cond\n",
      "then then sore the loaks of fier\n",
      "of than so then thes then sing in thee his af tone thes and tho gour\n",
      "then thes non the soan i\n",
      "\n",
      "('----- Diversity:', 1.0)\n",
      "o love is then then then the sore\n",
      "$then then then then then then the the sile the thee the soun the sore\n",
      "$then then then then then thee the the the the sore the thee as in ind cond\n",
      "$then then sore the loaks of fier\n",
      "$of than so then thes then sing in thee his af tone thes and tho gour\n",
      "$then thes non the soan ice gorcus tift lilgsisg ath nertang\n",
      "thoneingt ofn nom erkong hurs bue\n",
      "yes then maacse par slenk\n",
      "treans suonun't gipbuf inrt thelr foct\n",
      "shee an the\n",
      "\n",
      "--------------------------------------------------\n",
      "('Iteration', 2)\n",
      "Epoch 1/1\n",
      "80271/80271 [==============================] - 804s - loss: 2.0196   \n",
      "----- Generating with start: $$$$$$$$$$$$$$$o love is  \n",
      "\n",
      "\n",
      "('----- Diversity:', 0.2)\n",
      "o love is to the sore to stould the gainter so the gainter the stround the semfertest to seave the readt the seat the core the stall the stall the stante thy se\n",
      "\n",
      "('----- Diversity:', 0.5)\n",
      "o love is to the sore to stould the gainter so the gainter the stround the semfertest to seave the readt the seat the core the stall the stall the stante thy secues thise with to ste with that i be the strepting wither\n",
      "that ford all coupres to be to seated with comeors \n",
      "and thy seapted the gand the reart'd \n",
      "\n",
      "('----- Diversity:', 1.0)\n",
      "o love is to the sore to stould the gainter so the gainter the stround the semfertest to seave the readt the seat the core the stall the stall the stante thy secues thise with to ste with that i be the strepting wither\n",
      "$that ford all coupres to be to seated with comeors \n",
      "$and thy seapted the gand the reart'd dof beidispty muked it wexet\n",
      "to eneen's mame so wask biggting chaesernsees forukw with hlabgwperte\n",
      "butrole thy wordoth me wiendftercige\n",
      "fourine gon\n",
      "\n",
      "--------------------------------------------------\n",
      "('Iteration', 3)\n",
      "Epoch 1/1\n",
      "80271/80271 [==============================] - 802s - loss: 1.8593   \n",
      "----- Generating with start: $$$$$$$$$$$$$$$o love is  \n",
      "\n",
      "\n",
      "('----- Diversity:', 0.2)\n",
      "o love is the heart the heart\n",
      "the heart the heart the heart the strend\n",
      "the strong and the heart of my see\n",
      "and the heart the heart the heart the heart the str\n",
      "\n",
      "('----- Diversity:', 0.5)\n",
      "o love is the heart the heart\n",
      "$the heart the heart the heart the strend\n",
      "$the strong and the heart of my see\n",
      "$and the heart the heart the heart the heart the streng\n",
      "and dear be to word weer the dours she with heart not fare\n",
      "on corperte that hald me world thy see\n",
      "and rees the stround and the stears the sters\n",
      "\n",
      "('----- Diversity:', 1.0)\n",
      "o love is the heart the heart\n",
      "$the heart the heart the heart the strend\n",
      "$the strong and the heart of my see\n",
      "$and the heart the heart the heart the heart the streng\n",
      "$and dear be to word weer the dours she with heart not fare\n",
      "$on corperte that hald me world thy see\n",
      "$and rees the stround and the stears the sters\n",
      "which the opn ceion keer sunmt\n",
      "and imceche and un'nive the strang\n",
      "thar it dust his died hid ligation\n",
      "hers as torengs hers\n",
      "she vot lape i quiente\n",
      "\n",
      "--------------------------------------------------\n",
      "('Iteration', 4)\n",
      "Epoch 1/1\n",
      "80271/80271 [==============================] - 803s - loss: 1.7553   \n",
      "----- Generating with start: $$$$$$$$$$$$$$$o love is  \n",
      "\n",
      "\n",
      "('----- Diversity:', 0.2)\n",
      "o love is that the coure the sear\n",
      "and with the sure the pare the sear\n",
      "the paired but the will beauty shall be the sear\n",
      "the sear with the painter seem\n",
      "and th\n",
      "\n",
      "('----- Diversity:', 0.5)\n",
      "o love is that the coure the sear\n",
      "$and with the sure the pare the sear\n",
      "$the paired but the will beauty shall be the sear\n",
      "$the sear with the painter seem\n",
      "$and the sere the his his mane\n",
      "the will that the colour of her castes and the more the well with hastes my seat\n",
      "and the the poir as the one where of my say\n",
      "\n",
      "('----- Diversity:', 1.0)\n",
      "o love is that the coure the sear\n",
      "$and with the sure the pare the sear\n",
      "$the paired but the will beauty shall be the sear\n",
      "$the sear with the painter seem\n",
      "$and the sere the his his mane\n",
      "$the will that the colour of her castes and the more the well with hastes my seat\n",
      "$and the the poir as the one where of my say\n",
      "shant will'd of doronour thains be unthin wenteting\n",
      "the kill'd tas but truilt that chout ornice'd \n",
      "thou garfion re arow a 'comnaty\n",
      "and with then \n",
      "\n",
      "--------------------------------------------------\n",
      "('Iteration', 5)\n",
      "Epoch 1/1\n",
      "80271/80271 [==============================] - 803s - loss: 1.6716   \n",
      "----- Generating with start: $$$$$$$$$$$$$$$o love is  \n",
      "\n",
      "\n",
      "('----- Diversity:', 0.2)\n",
      "o love is all the such and the stall and self a to the survers in the stalled his sweet beauty his sweet beauty she shall bears of my songer see\n",
      "and then the s\n",
      "\n",
      "('----- Diversity:', 0.5)\n",
      "o love is all the such and the stall and self a to the survers in the stalled his sweet beauty his sweet beauty she shall bears of my songer see\n",
      "$and then the strong and bender the seeving eyes\n",
      "the glover in the lack in the will and love and swart and the smorn the tears of sumprise of the dead and all mine \n",
      "\n",
      "('----- Diversity:', 1.0)\n",
      "o love is all the such and the stall and self a to the survers in the stalled his sweet beauty his sweet beauty she shall bears of my songer see\n",
      "$and then the strong and bender the seeving eyes\n",
      "$the glover in the lack in the will and love and swart and the smorn the tears of sumprise of the dead and all mine as low\n",
      "or umbrerte god a aight with bain\n",
      "a dos poul on she shall forguth as ullagrecee\n",
      "eyes ale the evorre sour my woetorighes deture\n",
      "to not me th\n",
      "\n",
      "--------------------------------------------------\n",
      "('Iteration', 6)\n",
      "Epoch 1/1\n",
      "80271/80271 [==============================] - 860s - loss: 1.5981   \n",
      "----- Generating with start: $$$$$$$$$$$$$$$o love is  \n",
      "\n",
      "\n",
      "('----- Diversity:', 0.2)\n",
      "o love is some the string in the string and there be the string in his lack\n",
      "and there in the string the string the string and the bother with the string the st\n",
      "\n",
      "('----- Diversity:', 0.5)\n",
      "o love is some the string in the string and there be the string in his lack\n",
      "$and there in the string the string the string and the bother with the string the string of should there be not with deep\n",
      "my love that the tenders bright\n",
      "her come and from the say\n",
      "and now she with disprace the sell but the shall fo\n",
      "\n",
      "('----- Diversity:', 1.0)\n",
      "o love is some the string in the string and there be the string in his lack\n",
      "$and there in the string the string the string and the bother with the string the string of should there be not with deep\n",
      "$my love that the tenders bright\n",
      "$her come and from the say\n",
      "$and now she with disprace the sell but the shall for mugh thy luct beat not opcrasion with donce\n",
      "for foul hath pair of love\n",
      "whhse for grave a forstoul murlering purmer ment\n",
      "with such light i han wur\n",
      "\n",
      "--------------------------------------------------\n",
      "('Iteration', 7)\n",
      "Epoch 1/1\n",
      "80271/80271 [==============================] - 816s - loss: 1.5337   \n",
      "----- Generating with start: $$$$$$$$$$$$$$$o love is  \n",
      "\n",
      "\n",
      "('----- Diversity:', 0.2)\n",
      "o love is some that the bear and see\n",
      "the sorrow with the wind of the see\n",
      "the strength and the beauty the bear the bear and the stain\n",
      "and some in the self to \n",
      "\n",
      "('----- Diversity:', 0.5)\n",
      "o love is some that the bear and see\n",
      "$the sorrow with the wind of the see\n",
      "$the strength and the beauty the bear the bear and the stain\n",
      "$and some in the self to chough\n",
      "and the for on the compain my heart they\n",
      "and be to gently see and self to chade\n",
      "therefore on my self so sil\n",
      "or lark a mase of this such sig\n",
      "\n",
      "('----- Diversity:', 1.0)\n",
      "o love is some that the bear and see\n",
      "$the sorrow with the wind of the see\n",
      "$the strength and the beauty the bear the bear and the stain\n",
      "$and some in the self to chough\n",
      "$and the for on the compain my heart they\n",
      "$and be to gently see and self to chade\n",
      "$therefore on my self so sil\n",
      "$or lark a mase of this such sight\n",
      "from in thee live in your palour\n",
      "or gand by foul on pointer somerece\n",
      "will wenghersh which a turm dangwer\n",
      "'thon my leare summotion to my fair e'\n",
      "\n",
      "--------------------------------------------------\n",
      "('Iteration', 8)\n",
      "Epoch 1/1\n",
      "80271/80271 [==============================] - 866s - loss: 1.4697   \n",
      "----- Generating with start: $$$$$$$$$$$$$$$o love is  \n",
      "\n",
      "\n",
      "('----- Diversity:', 0.2)\n",
      "o love is thou art the wind\n",
      "the surmering that the wind\n",
      "the self and their charme\n",
      "and therefore the thing in this barkse that this the string and the will be\n",
      "\n",
      "('----- Diversity:', 0.5)\n",
      "o love is thou art the wind\n",
      "$the surmering that the wind\n",
      "$the self and their charme\n",
      "$and therefore the thing in this barkse that this the string and the will bear\n",
      "the pity a rainent where his bear\n",
      "the such sich the preyeth the bourd\n",
      "and which the thishe with thine the belove\n",
      "the will the world and beauty \n",
      "\n",
      "('----- Diversity:', 1.0)\n",
      "o love is thou art the wind\n",
      "$the surmering that the wind\n",
      "$the self and their charme\n",
      "$and therefore the thing in this barkse that this the string and the will bear\n",
      "$the pity a rainent where his bear\n",
      "$the such sich the preyeth the bourd\n",
      "$and which the thishe with thine the belove\n",
      "$the will the world and beauty seme the modanceled be\n",
      "whichse thy poarterest be taint\n",
      "do farse the curme their past\n",
      "this self might with the sward\n",
      "being but with this he fist\n",
      "t\n",
      "\n",
      "--------------------------------------------------\n",
      "('Iteration', 9)\n",
      "Epoch 1/1\n",
      "80271/80271 [==============================] - 877s - loss: 1.4051   \n",
      "----- Generating with start: $$$$$$$$$$$$$$$o love is  \n",
      "\n",
      "\n",
      "('----- Diversity:', 0.2)\n",
      "o love is some in this she deep so the string the stire thee\n",
      "and there i love the self and she their self are green\n",
      "the strong his shall be thee\n",
      "but then i c\n",
      "\n",
      "('----- Diversity:', 0.5)\n",
      "o love is some in this she deep so the string the stire thee\n",
      "$and there i love the self and she their self are green\n",
      "$the strong his shall be thee\n",
      "$but then i compound to the sub\n",
      "courded the herrming on the subbress distine\n",
      "but where i make the fool her hasted thee hear the grief and there in my dead\n",
      "and t\n",
      "\n",
      "('----- Diversity:', 1.0)\n",
      "o love is some in this she deep so the string the stire thee\n",
      "$and there i love the self and she their self are green\n",
      "$the strong his shall be thee\n",
      "$but then i compound to the sub\n",
      "$courded the herrming on the subbress distine\n",
      "$but where i make the fool her hasted thee hear the grief and there in my dead\n",
      "$and that no lece that in encceme me is d\n",
      "\n",
      "o' partions summines hard\n",
      "likes their lips with s deeds again\n",
      "her heer she but painted strench\n",
      "nerer is the g\n"
     ]
    }
   ],
   "source": [
    "# train the model, output generated text after each iteration\n",
    "for iteration in range(1, 10):\n",
    "    print\n",
    "    print('-' * 50)\n",
    "    print('Iteration', iteration)\n",
    "    model.fit(X, y, batch_size=128, nb_epoch=1)\n",
    "\n",
    "    generated = '$'*15 + 'o love is '\n",
    "    sentence = generated\n",
    "    print('----- Generating with start: %s \\n' %generated)\n",
    "    \n",
    "    for diversity in [0.2, 0.5, 1.0]:\n",
    "        print\n",
    "        print('----- Diversity:', diversity)\n",
    "        \n",
    "        sys.stdout.write(generated[15:])\n",
    "        for i in range(150):\n",
    "            x = np.zeros((1, maxlen, len(chars)))\n",
    "            for t, char in enumerate(sentence):\n",
    "                x[0, t, char_indices[char]] = 1.\n",
    "\n",
    "            preds = model.predict(x, verbose=0)[0]\n",
    "            next_index = sample(preds, diversity)\n",
    "            next_char = indices_char[next_index]\n",
    "\n",
    "            generated += next_char\n",
    "            sentence = sentence[1:] + next_char\n",
    "\n",
    "            if (next_char != '$'):\n",
    "                sys.stdout.write(next_char)\n",
    "            sys.stdout.flush()\n",
    "        print"
   ]
  },
  {
   "cell_type": "markdown",
   "metadata": {
    "collapsed": true
   },
   "source": [
    "Obviously, we need to train more iterations, but it is starting to recognize short words by iteration 10. Online sources say all the words will be correct by iteration 35"
   ]
  },
  {
   "cell_type": "markdown",
   "metadata": {},
   "source": [
    "I messed up the printing. Should have moved the generated inside the for loop."
   ]
  },
  {
   "cell_type": "markdown",
   "metadata": {},
   "source": [
    "## Load a Char-RNN, and Train Further"
   ]
  },
  {
   "cell_type": "markdown",
   "metadata": {},
   "source": [
    "Load a model trained for 30 iterations, and train it for more. This model is trained to predict backwards, which will be useful when we want to include rhymes"
   ]
  },
  {
   "cell_type": "code",
   "execution_count": 2,
   "metadata": {
    "collapsed": true
   },
   "outputs": [],
   "source": [
    "from keras.models import model_from_json"
   ]
  },
  {
   "cell_type": "code",
   "execution_count": 12,
   "metadata": {
    "collapsed": false
   },
   "outputs": [
    {
     "name": "stdout",
     "output_type": "stream",
     "text": [
      "Loaded model from disk\n"
     ]
    }
   ],
   "source": [
    "json_file = open('../models/backwards_char_rnn.json', 'r')\n",
    "loaded_model_json = json_file.read()\n",
    "json_file.close()\n",
    "loaded_model = model_from_json(loaded_model_json)\n",
    "\n",
    "# load weights into new model\n",
    "loaded_model.load_weights(\"../models/backwards_char_rnn.h5\")\n",
    "loaded_model.compile(loss='categorical_crossentropy', optimizer='rmsprop')\n",
    "print \"Loaded model from disk\""
   ]
  },
  {
   "cell_type": "code",
   "execution_count": 13,
   "metadata": {
    "collapsed": false
   },
   "outputs": [
    {
     "name": "stdout",
     "output_type": "stream",
     "text": [
      "('Total chars:', 31)\n",
      "('Number sequences:', 294665)\n"
     ]
    }
   ],
   "source": [
    "files = ['../data/shakespeare.txt', '../data/shakespeare_xtra.txt', \n",
    "        '../data/spenser.txt']\n",
    "text = ''\n",
    "\n",
    "for filename in files:\n",
    "    with open(filename) as f:\n",
    "        for line in f:\n",
    "            line = line.strip()\n",
    "            if len(line) > 0 and not line.isdigit():\n",
    "                line = line.translate(None, ':;,.!()?&')\n",
    "                text += '$' + line.lower() + '\\n'\n",
    "\n",
    "chars = set(text)\n",
    "print('Total chars:', len(chars))\n",
    "\n",
    "char_indices = dict((c, i) for i, c in enumerate(chars))\n",
    "indices_char = dict((i, c) for i, c in enumerate(chars))\n",
    "\n",
    "maxlen = 25 # Window size\n",
    "\n",
    "# Train in reverse, so we can construct lines from the back for rhyme\n",
    "step = 1\n",
    "sentences = []\n",
    "next_chars = []\n",
    "for i in range(0, len(text) - maxlen, step):\n",
    "    sentences.append(text[i + maxlen: i: -1])\n",
    "    next_chars.append(text[i])\n",
    "    \n",
    "print('Number sequences:', len(sentences))\n",
    "    \n",
    "# One hot encode sequences\n",
    "X = np.zeros((len(sentences), maxlen, len(chars)), dtype=np.bool)\n",
    "y = np.zeros((len(sentences), len(chars)), dtype=np.bool)\n",
    "\n",
    "for i, sentence in enumerate(sentences):\n",
    "    for t, char in enumerate(sentence):\n",
    "        X[i, t, char_indices[char]] = 1\n",
    "    y[i, char_indices[next_chars[i]]] = 1"
   ]
  },
  {
   "cell_type": "code",
   "execution_count": 24,
   "metadata": {
    "collapsed": false
   },
   "outputs": [
    {
     "name": "stdout",
     "output_type": "stream",
     "text": [
      "\n",
      "--------------------------------------------------\n",
      "('Iteration', 1)\n",
      "Epoch 1/1\n",
      "294665/294665 [==============================] - 3176s - loss: 0.4072  \n",
      "\n",
      "('----- Diversity:', 0.2)\n",
      "----- Generating with end:  and love's embrace\n",
      "\n",
      "ew weet\n",
      "$whose but their such and sin gives play\n",
      "$and there are thraven in thy state\n",
      "$and in her tongues were brained hate\n",
      "$which is no worden will abide\n",
      "$grant of this willly spite\n",
      "$and in his tyrant will hespity by night\n",
      "$and die my pains himself not the fair\n",
      "$for if it were again and thee but mine ententing steel\n",
      "$upon my cheeks what him when more than thou hast hears done\n",
      "$make time themselves and love's embrace\n",
      "\n",
      "\n",
      "\n",
      "('----- Diversity:', 0.5)\n",
      "----- Generating with end:  and love's embrace\n",
      "\n",
      " that never at the enemies\n",
      "$but yet from her thy beauty bear\n",
      "$and yet i love in your sweet assailed\n",
      "$that they are tongue the mententions on temps atiquity\n",
      "$my spirit i will not love\n",
      "$and that her plentrous cries\n",
      "$and simbles we desire increase\n",
      "$thee are full of her name\n",
      "$how shade none him that fears to me\n",
      "$for thy that love for me in there\n",
      "$and hide them from with this distontued say\n",
      "$'let hours and love's embrace\n",
      "\n",
      "\n",
      "\n",
      "('----- Diversity:', 1.0)\n",
      "----- Generating with end:  and love's embrace\n",
      "\n",
      "g mire\n",
      "$on thee and mourning on youth in his blooding let that bless\n",
      "$and being cary he did but that wisom now was i upon shall those poor regested suloties whole i have lembers to her light\n",
      "$and then have hours of prove\n",
      "$and he unstained have beed\n",
      "$so much repose me but he will going men\n",
      "$whiles stige purces where he goven away\n",
      "$to fear the gentle collatine thou shalt not know\n",
      "$the steathed words and love's embrace\n",
      "\n",
      "\n",
      "\n",
      "--------------------------------------------------\n",
      "('Iteration', 2)\n",
      "Epoch 1/1\n",
      "294665/294665 [==============================] - 3231s - loss: 0.3955  \n",
      "\n",
      "('----- Diversity:', 0.2)\n",
      "----- Generating with end:  and love's embrace\n",
      "\n",
      "her mistrous cries and clouded now\n",
      "$will be a tattered weed of small worth held\n",
      "$then being asked where all thy beauty lies\n",
      "$where all the treasures of his quite\n",
      "$and in her naught not discontent\n",
      "$speaking her prick'd the lestful city\n",
      "$and in themselves more farrived and with his wrong\n",
      "$and in them still overtured be\n",
      "$whose soft lies in thy praining\n",
      "$and this past pheavy compare\n",
      "$the nearest deeds and love's embrace\n",
      "\n",
      "\n",
      "\n",
      "('----- Diversity:', 0.5)\n",
      "----- Generating with end:  and love's embrace\n",
      "\n",
      "ding heaffence makes her bin and all her strength begun\n",
      "$i filled the painter with his hand\n",
      "$put on his tongue doth joy with gentle hunt\n",
      "$against my heart to work my wintured part\n",
      "$that thou by none can every might be\n",
      "$men's fault as one to save thou liv\n",
      "$thus litherest in her glorious sing\n",
      "$whethers she thinks her eyes he back again\n",
      "$and she quips her weep what her should be\n",
      "$that dote with looks and love's embrace\n",
      "\n",
      "\n",
      "\n",
      "('----- Diversity:', 1.0)\n",
      "----- Generating with end:  and love's embrace\n",
      "\n",
      " all in many as mine wherein i wed smeel\n",
      "$and time and summer's lust\n",
      "$and jewel will be well esteemed\n",
      "$so is her precious thise may shall have troned be\n",
      "$to what argument of nature hath\n",
      "$that he shall use dust is he fright her went'le birds and wounded in the mind\n",
      "$so found a on thy hanour do hose\n",
      "$in him thee how thy tongue and ridown make\n",
      "$plants to their saden face\n",
      "$she kiss no change but sings and love's embrace\n",
      "\n",
      "\n",
      "\n",
      "--------------------------------------------------\n",
      "('Iteration', 3)\n",
      "Epoch 1/1\n",
      "294665/294665 [==============================] - 3001s - loss: 0.3832  \n",
      "\n",
      "('----- Diversity:', 0.2)\n",
      "----- Generating with end:  and love's embrace\n",
      "\n",
      "e whose woman's left\n",
      "$and therefore in her impowers i rage\n",
      "$that is the starts love's tuels in thy heart\n",
      "$and bright insue the course of pearse all of rogged name\n",
      "$for i have sweeteth over-faired pride\n",
      "$and so shoft her temple it her words\n",
      "$and by thy beauty doth my life fell entest\n",
      "$can do most precious vain\n",
      "$of all the lasting things\n",
      "$and grant shines but he was alously\n",
      "$to wish i have the hanks and love's embrace\n",
      "\n",
      "\n",
      "\n",
      "('----- Diversity:', 0.5)\n",
      "----- Generating with end:  and love's embrace\n",
      "\n",
      "rigeness have i bear\n",
      "$yet are mine eyes her husband's riches are think stend\n",
      "$if hairs that turns his hours are but nor the enus' eyes\n",
      "$the whickly breats are plain their minds it worms not flowers\n",
      "$end her whose sour is that's course of secret pleasure\n",
      "$so i entertain once more beens to cold\n",
      "$to sorrow thanful words away the more\n",
      "$then eyes are singled to me\n",
      "$and that it sinon to his poisty hanks and love's embrace\n",
      "\n",
      "\n",
      "\n",
      "('----- Diversity:', 1.0)\n",
      "----- Generating with end:  and love's embrace\n",
      "\n",
      "seath\n",
      "$she takes her years are not my tears with smiles quite\n",
      "$and in the glory of her weakest dead\n",
      "$against thou in this time of hind or captaste dalk\n",
      "$thus inator'en force must be\n",
      "$tack that quastation having fasty\n",
      "$for i do round on his freize the other drow\n",
      "$shall therity and all she will the mortal time's cluse was in rily showers\n",
      "$with this she friends her sovered breasts\n",
      "$but load be call'd and love's embrace\n",
      "\n",
      "\n"
     ]
    }
   ],
   "source": [
    "# Train the model, output generated text after each iteration\n",
    "for iteration in range(1, 4):\n",
    "    print\n",
    "    print('-' * 50)\n",
    "    print('Iteration', iteration)\n",
    "    loaded_model.fit(X, y, batch_size=128, nb_epoch=1)\n",
    "\n",
    "    \n",
    "    for diversity in [0.2, 0.5, 1.0]:\n",
    "        print\n",
    "        print('----- Diversity:', diversity)\n",
    "        \n",
    "        generated = \" and love's embrace\\n\"\n",
    "        sentence = '$'*(maxlen - len(generated)) + generated[::-1]\n",
    "        print('----- Generating with end: %s' %generated)\n",
    "    \n",
    "        for i in range(400):\n",
    "            x = np.zeros((1, maxlen, len(chars)))\n",
    "            for t, char in enumerate(sentence):\n",
    "                x[0, t, char_indices[char]] = 1.\n",
    "\n",
    "            preds = loaded_model.predict(x, verbose=0)[0]\n",
    "            next_index = sample(preds, diversity)\n",
    "            next_char = indices_char[next_index]\n",
    "                \n",
    "            generated = next_char + generated\n",
    "            sentence = sentence[1:] + next_char\n",
    "        \n",
    "        print generated\n",
    "        print"
   ]
  },
  {
   "cell_type": "code",
   "execution_count": 25,
   "metadata": {
    "collapsed": false
   },
   "outputs": [
    {
     "name": "stdout",
     "output_type": "stream",
     "text": [
      "Saved model to disk\n"
     ]
    }
   ],
   "source": [
    "# serialize model to JSON\n",
    "model_json = loaded_model.to_json()\n",
    "with open(\"../models/backwards_char_rnn.json\", \"w\") as json_file:\n",
    "    json_file.write(model_json)\n",
    "# serialize weights to HDF5\n",
    "loaded_model.save_weights(\"../models/backwards_char_rnn.h5\")\n",
    "print \"Saved model to disk\""
   ]
  },
  {
   "cell_type": "code",
   "execution_count": 26,
   "metadata": {
    "collapsed": false
   },
   "outputs": [
    {
     "name": "stdout",
     "output_type": "stream",
     "text": [
      "----- Generating with end:  and love's embrace\n",
      "\n",
      "\n",
      "$again his will and will pluck thee back\n",
      "$she keeps thee to this purpose that her skill\n",
      "$may time disgrace with bouring to the ending time\n",
      "$besides thy outward fair lion's tears for life\n",
      "$a wandering selands and complain him\n",
      "$and bids them to the painted by this sweetly see\n",
      "$peall brait be forced to yous as all my love's dead\n",
      "$my love more lives to sort did when a childing pity\n",
      "$to make the locks and love's embrace\n",
      "\n"
     ]
    }
   ],
   "source": [
    "diversity = 0.5\n",
    "\n",
    "generated = \" and love's embrace\\n\"\n",
    "sentence = '$'*(maxlen - len(generated)) + generated[::-1]\n",
    "print('----- Generating with end: %s' %generated)\n",
    "    \n",
    "for i in range(400):\n",
    "    x = np.zeros((1, maxlen, len(chars)))\n",
    "    for t, char in enumerate(sentence):\n",
    "        x[0, t, char_indices[char]] = 1.\n",
    "\n",
    "    preds = loaded_model.predict(x, verbose=0)[0]\n",
    "    next_index = sample(preds, diversity)\n",
    "    next_char = indices_char[next_index]\n",
    "                \n",
    "    generated = next_char + generated\n",
    "    sentence = sentence[1:] + next_char\n",
    "        \n",
    "print generated"
   ]
  },
  {
   "cell_type": "code",
   "execution_count": null,
   "metadata": {
    "collapsed": true
   },
   "outputs": [],
   "source": []
  }
 ],
 "metadata": {
  "kernelspec": {
   "display_name": "Python 2",
   "language": "python",
   "name": "python2"
  },
  "language_info": {
   "codemirror_mode": {
    "name": "ipython",
    "version": 2
   },
   "file_extension": ".py",
   "mimetype": "text/x-python",
   "name": "python",
   "nbconvert_exporter": "python",
   "pygments_lexer": "ipython2",
   "version": "2.7.11"
  }
 },
 "nbformat": 4,
 "nbformat_minor": 1
}
